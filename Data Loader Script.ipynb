{
    "metadata": {
        "kernelspec": {
            "name": "SQL",
            "display_name": "SQL",
            "language": "sql"
        },
        "language_info": {
            "name": "sql",
            "version": ""
        }
    },
    "nbformat_minor": 2,
    "nbformat": 4,
    "cells": [
        {
            "cell_type": "markdown",
            "source": [
                "> ### **Data Loader script for both Facts and Dimensions**"
            ],
            "metadata": {
                "azdata_cell_guid": "a44b71b1-5805-45fc-a180-23a4d6c96504"
            },
            "attachments": {}
        },
        {
            "cell_type": "markdown",
            "source": [
                "This is query that loads data into the facts and dimension table we created from a source database to the target database.\n",
                "\n",
                "NB: During loading of data you want to ensure that data loads once and doesnt load repeatedly."
            ],
            "metadata": {
                "azdata_cell_guid": "dced34c6-d1e7-43fe-bf56-b457fda01d08"
            },
            "attachments": {}
        },
        {
            "cell_type": "markdown",
            "source": [
                "We load the Dimensions first"
            ],
            "metadata": {
                "azdata_cell_guid": "406e142f-e893-4bf5-aebc-e6c33b61cd14"
            },
            "attachments": {}
        },
        {
            "cell_type": "markdown",
            "source": [
                "<span style=\"color: var(--vscode-foreground);\"><b>Calendar Data Loader</b></span>"
            ],
            "metadata": {
                "azdata_cell_guid": "a90f664f-e635-487d-8bf0-6d7eb569b3c3"
            },
            "attachments": {}
        },
        {
            "cell_type": "code",
            "source": [
                "\r\n",
                "IF (SELECT count(*) FROM dim.Calendar) = 0\r\n",
                "BEGIN\r\n",
                "-- Declare variables\r\n",
                "DECLARE @StartDate DATE = '2020-01-01'\r\n",
                "DECLARE @EndDate DATE = DATEADD(year, 0, GETDATE())\r\n",
                "DECLARE @Date DATE = @StartDate\r\n",
                "DECLARE @DayID INT = (datepart(year, @StartDate)-1900)*1000 + datepart(dy, @StartDate)\r\n",
                ";\r\n",
                "\r\n",
                "\r\n",
                "-- Populate the Calendar table\r\n",
                "WHILE @Date <= @EndDate\r\n",
                "\tBEGIN\r\n",
                "\t\tINSERT INTO dim.Calendar (pkCalendar, DateValue, Year, Quarter, Qtr, Month,  MonthName, MonthShort, Week, Day, DayName, DayShort, IsWeekday, Weekday)\r\n",
                "\t\tVALUES (\r\n",
                "\t\t\t@DayID,\r\n",
                "\t\t\t@Date,\r\n",
                "\t\t\tYEAR(@Date),\r\n",
                "\t\t\tDATEPART(QUARTER, @Date),\r\n",
                "\t\t\tCASE WHEN DATEPART(QUARTER, @Date) IN (1) THEN '1st'\r\n",
                "\t\t\t\t WHEN DATEPART(QUARTER, @Date) IN (2) THEN '2nd'\r\n",
                "\t\t\t\t WHEN DATEPART(QUARTER, @Date) IN (3) THEN '3rd'\r\n",
                "\t\t\t\t WHEN DATEPART(QUARTER, @Date) IN (4) THEN '4th'\r\n",
                "\t\t\t\t ELSE '5th'\r\n",
                "\t\t\t\t END,\r\n",
                "\t\t\tMONTH(@Date),\r\n",
                "\t\t\tDATENAME(MONTH, @Date),\r\n",
                "\t\t\tLEFT(DATENAME(MONTH, @Date),3),\r\n",
                "\t\t\tDATEPART(WEEK, @Date),\r\n",
                "\t\t\tDAY(@Date),\r\n",
                "\t\t\tDATENAME(WEEKDAY, @Date),\r\n",
                "\t\t\tLEFT(DATENAME(WEEKDAY, @Date),3),\r\n",
                "\t\t\tCASE WHEN DATEPART(WEEKDAY, @Date) IN (1, 7) THEN 0 ELSE 1 END, -- Set IsWeekday to 0 for Saturday (1) and Sunday (7), and 1 for weekdays\r\n",
                "\t\t\tCASE WHEN DATEPART(WEEKDAY, @Date) IN (1, 7) THEN 'No' ELSE 'Yes' END\r\n",
                "\t )\r\n",
                "\r\n",
                "\t\t-- Increment the date and day ID\r\n",
                "\t\tSET @Date = DATEADD(DAY, 1, @Date)\r\n",
                "\t\tSET @DayID = @DayID + 1\r\n",
                "\tEND\r\n",
                "END\r\n",
                "GO"
            ],
            "metadata": {
                "azdata_cell_guid": "b295c9d9-f870-4806-b246-e0207d7374d5",
                "language": "sql"
            },
            "outputs": [
                {
                    "output_type": "display_data",
                    "data": {
                        "text/html": "Commands completed successfully."
                    },
                    "metadata": {}
                },
                {
                    "output_type": "display_data",
                    "data": {
                        "text/html": "Total execution time: 00:00:00.073"
                    },
                    "metadata": {}
                }
            ],
            "execution_count": 1
        },
        {
            "cell_type": "markdown",
            "source": [
                "**Customer Data Loader**"
            ],
            "metadata": {
                "language": "sql",
                "azdata_cell_guid": "f1c2f047-fb03-43a9-8b9c-56fd8fecc4d9"
            },
            "attachments": {}
        },
        {
            "cell_type": "code",
            "source": [
                "INSERT INTO dim.Customers(CustomerID, Customer, City, Country, LoadDate, SourceCountry)\r\n",
                "\tSELECT nwc.CustomerID\r\n",
                "\t\t  ,nwc.CompanyName \r\n",
                "\t\t  ,nwc.City\r\n",
                "\t\t  ,nwc.Country\r\n",
                "\t\t  ,CAST(getdate() as DATE)\r\n",
                "\t\t  ,concat('Country = ', nwc.Country) \r\n",
                "\tFROM Northwind_2023.dbo.Customers nwc\r\n",
                "\tWHERE nwc.CustomerID not in (SELECT CustomerID FROM dim.Customers)\r\n",
                "\r\n",
                ";\r\n",
                "GO\r\n",
                ""
            ],
            "metadata": {
                "language": "sql",
                "azdata_cell_guid": "22b4e2fe-e61d-40ef-a9b8-26570b859709"
            },
            "outputs": [
                {
                    "output_type": "display_data",
                    "data": {
                        "text/html": "(0 rows affected)"
                    },
                    "metadata": {}
                },
                {
                    "output_type": "display_data",
                    "data": {
                        "text/html": "Total execution time: 00:00:00.165"
                    },
                    "metadata": {}
                }
            ],
            "execution_count": 2
        },
        {
            "cell_type": "markdown",
            "source": [
                "**Shipper Data Loader**"
            ],
            "metadata": {
                "language": "sql",
                "azdata_cell_guid": "3602b81e-6761-43c8-87d9-087224a69fd9"
            },
            "attachments": {}
        },
        {
            "cell_type": "code",
            "source": [
                "INSERT INTO dim.Shipper(pkShipId, Shipper, Phone)\r\n",
                "SELECT s_sh.ShipperID\r\n",
                "      ,s_sh.CompanyName\r\n",
                "      ,s_sh.Phone\r\n",
                "FROM Northwind_2023.dbo.Shippers s_sh\r\n",
                "WHERE s_sh.ShipperID not in (SELECT pkShipId FROM dim.Shipper)\r\n",
                ";\r\n",
                "GO"
            ],
            "metadata": {
                "language": "sql",
                "azdata_cell_guid": "17423000-a28b-4044-88f8-d8a8c97404a2"
            },
            "outputs": [
                {
                    "output_type": "display_data",
                    "data": {
                        "text/html": "(0 rows affected)"
                    },
                    "metadata": {}
                },
                {
                    "output_type": "display_data",
                    "data": {
                        "text/html": "Total execution time: 00:00:00.031"
                    },
                    "metadata": {}
                }
            ],
            "execution_count": 5
        },
        {
            "cell_type": "markdown",
            "source": [
                "**Employee Data Loader**"
            ],
            "metadata": {
                "language": "sql",
                "azdata_cell_guid": "5b2adc05-d2f8-4b28-8155-4fbe55142616"
            },
            "attachments": {}
        },
        {
            "cell_type": "code",
            "source": [
                "INSERT INTO dim.Employees(EmployeeID, Employee, Title, BirthDate, HireDate, City, Country, ReportsTo)\r\n",
                "SELECT sEmp.EmployeeID\r\n",
                "\t  ,concat( sEmp.TitleOfCourtesy, ' ', sEmp.FirstName, ', ', sEmp.LastName)\r\n",
                "      ,sEmp.Title\r\n",
                "      ,sEmp.BirthDate\r\n",
                "      ,sEmp.HireDate\r\n",
                "      ,sEmp.City\r\n",
                "      ,sEmp.Country\r\n",
                "      ,sEmp.ReportsTo\r\n",
                "FROM Northwind_2023.dbo.Employees sEmp\r\n",
                "WHERE sEmp.EmployeeID not in (SELECT EmployeeID FROM dim.Employees)"
            ],
            "metadata": {
                "language": "sql",
                "azdata_cell_guid": "d8c88339-7ed6-43f4-b122-b23cd71ace66"
            },
            "outputs": [
                {
                    "output_type": "display_data",
                    "data": {
                        "text/html": "(0 rows affected)"
                    },
                    "metadata": {}
                },
                {
                    "output_type": "display_data",
                    "data": {
                        "text/html": "Total execution time: 00:00:00.071"
                    },
                    "metadata": {}
                }
            ],
            "execution_count": 4
        },
        {
            "cell_type": "markdown",
            "source": [
                "**Product Data Loader**"
            ],
            "metadata": {
                "language": "sql",
                "azdata_cell_guid": "6016fcf6-9885-49e6-8d03-6e3fca5f0079"
            },
            "attachments": {}
        },
        {
            "cell_type": "code",
            "source": [
                "\r\n",
                "INSERT INTO dim.Products(pkProdId, ProductId, Product, ProductCategory, CategoryDesc, UnitPrice, UnitsInStock, UnitsOnOrder, ReorderLevel, Discontinued, ReorderFlag)\r\n",
                "SELECT prod.ProductID + 10000 as 'pkProdId'\r\n",
                "      , prod.ProductID as 'ProductId'\r\n",
                "      , prod.ProductName as 'Product'\r\n",
                "\t  , cat.CategoryName as 'ProductCategory'\r\n",
                "\t  , cat.[Description] as 'CategoryDesc'\r\n",
                "\t  , prod.UnitPrice\r\n",
                "\t  , prod.UnitsInStock\r\n",
                "\t  , prod.UnitsOnOrder\r\n",
                "\t  , prod.ReorderLevel\r\n",
                "\t  , prod.Discontinued\r\n",
                "\t  , CASE \r\n",
                "\t\t\tWHEN prod.ReorderLevel >= (prod.UnitsInStock + prod.UnitsOnOrder)\r\n",
                "\t\t\t     AND prod.Discontinued = 0\r\n",
                "\t\t\t THEN 'Yes'\r\n",
                "\t      ELSE 'No'\r\n",
                "\t    END as 'ReorderFlag'\r\n",
                "FROM Northwind_2023.dbo.Products prod\r\n",
                "\tINNER JOIN Northwind_2023.dbo.Categories cat\r\n",
                "\tON prod.CategoryID = cat.CategoryID\r\n",
                "WHERE prod.ProductID not in (SELECT ProductId FROM dim.Products)\r\n",
                ";\r\n",
                "\r\n",
                "\r\n",
                "\r\n",
                "GO"
            ],
            "metadata": {
                "language": "sql",
                "azdata_cell_guid": "f4f57216-807d-4893-8290-c6505d6da13c"
            },
            "outputs": [
                {
                    "output_type": "display_data",
                    "data": {
                        "text/html": "(0 rows affected)"
                    },
                    "metadata": {}
                },
                {
                    "output_type": "display_data",
                    "data": {
                        "text/html": "Total execution time: 00:00:00.031"
                    },
                    "metadata": {}
                }
            ],
            "execution_count": 6
        },
        {
            "cell_type": "markdown",
            "source": [
                "We have successfuly loaded the data for the dimensions.\n",
                "\n",
                "Now we go ahead to load the fact tables,\n",
                "\n",
                "NB: It is adviseable to truncate your fact table before loadng it to maximise data integrity."
            ],
            "metadata": {
                "language": "sql",
                "azdata_cell_guid": "2b963791-1ee1-471b-bda1-3a4217b109d0"
            },
            "attachments": {}
        },
        {
            "cell_type": "markdown",
            "source": [
                "**ProductPerf Data Loader**"
            ],
            "metadata": {
                "language": "sql",
                "azdata_cell_guid": "e0c54a56-5c0e-4444-871e-9993d8e3dc1e"
            },
            "attachments": {}
        },
        {
            "cell_type": "code",
            "source": [
                "TRUNCATE TABLE TargetMartII.f.ProductPerf\r\n",
                "GO\r\n",
                "\r\n",
                "INSERT INTO TargetMartII.f.ProductPerf(OrderID, OrderDate, ProductID, fkCustomerID, UnitPrice, Quantity, Discount, DiscFlag, LineTotal)\r\n",
                "SELECT sDet.OrderID\r\n",
                "      ,tCal.pkCalendar as 'OrderDate'\r\n",
                "      ,sDet.ProductID + 10000 as 'ProductID'\r\n",
                "--\t  ,sOrd.CustomerID\r\n",
                "\t  ,tCust.pkCustomer\r\n",
                "      ,sDet.UnitPrice\r\n",
                "      ,sDet.Quantity\r\n",
                "      ,sDet.Discount\r\n",
                "\t  ,CASE \r\n",
                "\t\t WHEN sDet.Discount = 0 THEN 0\r\n",
                "\t\t ELSE 1\r\n",
                "\t   END as 'DiscFlag'\r\n",
                "\t  ,CAST(((1 - sDet.Discount) * sDet.UnitPrice) * sDet.Quantity as MONEY) as 'LineTotal'\r\n",
                "FROM Northwind_2023.dbo.OrderDetails sDet\r\n",
                "\tINNER JOIN Northwind_2023.dbo.Orders sOrd\r\n",
                "\tON sDet.OrderID = sOrd.OrderID\r\n",
                "\tINNER JOIN dim.Calendar tCal\r\n",
                "\tON CAST(sOrd.OrderDate as DATE) = tCal.DateValue\r\n",
                "\tINNER JOIN dim.Customers tCust\r\n",
                "\tON sOrd.CustomerID = tCust.CustomerID\r\n",
                ";"
            ],
            "metadata": {
                "language": "sql",
                "azdata_cell_guid": "1bc368d7-9b35-4022-b35c-875bb0c28369"
            },
            "outputs": [
                {
                    "output_type": "display_data",
                    "data": {
                        "text/html": "Commands completed successfully."
                    },
                    "metadata": {}
                },
                {
                    "output_type": "display_data",
                    "data": {
                        "text/html": "(2155 rows affected)"
                    },
                    "metadata": {}
                },
                {
                    "output_type": "display_data",
                    "data": {
                        "text/html": "Total execution time: 00:00:00.294"
                    },
                    "metadata": {}
                }
            ],
            "execution_count": 7
        },
        {
            "cell_type": "markdown",
            "source": [
                "**OrderPerf Data Loader**"
            ],
            "metadata": {
                "language": "sql",
                "azdata_cell_guid": "3b6a7da3-6c22-4da6-9836-6fbd896dd85f"
            },
            "attachments": {}
        },
        {
            "cell_type": "code",
            "source": [
                "TRUNCATE TABLE TargetMartII.f.OrderPerf\r\n",
                "GO\r\n",
                "\r\n",
                "INSERT INTO TargetMartII.f.OrderPerf(OrderID, fkCalendar, fkCustomer, fkShipper, fkEmployee, Freight, DaysToShip, DaysTilRequired, OrderCount)\r\n",
                "SELECT sO.OrderID\r\n",
                "\t  ,tC.pkCalendar as fkCalendar\r\n",
                "\t  ,tCus.pkCustomer as fkCustomer\r\n",
                "\t  ,sO.ShipVia as fkShipper\r\n",
                "\t  ,sO.EmployeeID as fkEmployee\r\n",
                "\t  ,sO.Freight\r\n",
                "\t  ,DATEDIFF ( day , sO.OrderDate , sO.ShippedDate ) as 'DaysToShip'\r\n",
                "\t  ,DATEDIFF ( day , sO.OrderDate , sO.RequireDate ) as 'DaysTilRequired'\r\n",
                "\t  , 1 as 'OrderCount'\r\n",
                "FROM Northwind_2023.dbo.Orders sO\r\n",
                "\tINNER JOIN TargetMartII.dim.Calendar tC\r\n",
                "\tON cast(so.OrderDate as DATE) = tc.DateValue\r\n",
                "\tINNER JOIN TargetMartII.dim.Customers tCus\r\n",
                "\tON sO.CustomerID = tCus.CustomerID\r\n",
                "; "
            ],
            "metadata": {
                "language": "sql",
                "azdata_cell_guid": "ee633cb2-f90f-4e0e-b642-1179256595d0"
            },
            "outputs": [
                {
                    "output_type": "display_data",
                    "data": {
                        "text/html": "Commands completed successfully."
                    },
                    "metadata": {}
                },
                {
                    "output_type": "display_data",
                    "data": {
                        "text/html": "(830 rows affected)"
                    },
                    "metadata": {}
                },
                {
                    "output_type": "display_data",
                    "data": {
                        "text/html": "Total execution time: 00:00:00.049"
                    },
                    "metadata": {}
                }
            ],
            "execution_count": 8
        },
        {
            "cell_type": "markdown",
            "source": [
                "We have successfully loaded or data from source to target."
            ],
            "metadata": {
                "language": "sql",
                "azdata_cell_guid": "be865f9a-eeb6-4edf-bf07-c85fbe0b49fe"
            },
            "attachments": {}
        }
    ]
}